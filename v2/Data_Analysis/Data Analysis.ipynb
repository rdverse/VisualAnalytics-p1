{
 "cells": [
  {
   "cell_type": "code",
   "execution_count": 3,
   "id": "specific-equivalent",
   "metadata": {},
   "outputs": [],
   "source": [
    "# Import libraries\n",
    "import numpy as np\n",
    "import pandas as pd\n",
    "import matplotlib.pyplot as plt\n",
    "\n",
    "from sklearn.manifold import TSNE\n",
    "from sklearn.decomposition import PCA\n",
    "from sklearn.pipeline import Pipeline\n",
    "from sklearn.pipeline import make_pipeline\n",
    "from sklearn.preprocessing import MinMaxScaler, StandardScaler, RobustScaler\n",
    "from sklearn.preprocessing import OneHotEncoder\n",
    "from sklearn.cluster import KMeans\n",
    "\n",
    "from sklearn.tree import DecisionTreeClassifier, plot_tree\n",
    "from ipywidgets import interact, interactive, fixed, interact_manual\n",
    "import plotly.express as px\n"
   ]
  },
  {
   "cell_type": "code",
   "execution_count": 4,
   "id": "primary-ordinary",
   "metadata": {},
   "outputs": [],
   "source": [
    "# @Arguments: filename\n",
    "# @Returns: dataframe\n",
    "def _get_data(fileName):\n",
    "    return (pd.read_csv(fileName))\n",
    "\n",
    "# @Arguments: Takes numerical and categorical featuers(onehot)\n",
    "# @Returns: final features list\n",
    "def _make_features(num_feats, cat_feats):\n",
    "    num_feats = np.array(num_feats.values)\n",
    "    finalFeats = np.hstack((num_feats, cat_feats))\n",
    "    return (finalFeats)\n",
    "\n",
    "\n",
    "# @Arguments: array of categorical data\n",
    "# @Returns: one hot data representations\n",
    "def _get_onehot(data):\n",
    "    onehot = OneHotEncoder(sparse=False)\n",
    "    one_hotData = onehot.fit_transform(data)\n",
    "    return (one_hotData)\n",
    "\n",
    "# @Arguments: filename\n",
    "# @Returns: df and features(with one hot representations)\n",
    "def make_data(fileName):\n",
    "    df = _get_data(fileName)\n",
    "    num_features = df[[\n",
    "        'MPG', 'Horsepower', 'Cylinders', 'Displacement', 'Weight',\n",
    "        'Acceleration', 'Year'\n",
    "    ]]\n",
    "    cat_data = df['Origin']\n",
    "    cat_features = _get_onehot(cat_data.values.reshape(-1, 1))\n",
    "\n",
    "    features = _make_features(num_features, cat_features)\n",
    "    return (df, features)"
   ]
  },
  {
   "cell_type": "code",
   "execution_count": 5,
   "id": "automatic-timothy",
   "metadata": {},
   "outputs": [],
   "source": [
    "PATH = \"../Data/cars.csv\""
   ]
  },
  {
   "cell_type": "code",
   "execution_count": 6,
   "id": "affiliated-canberra",
   "metadata": {},
   "outputs": [],
   "source": [
    "dfData, features = make_data(PATH)"
   ]
  },
  {
   "cell_type": "code",
   "execution_count": 7,
   "id": "touched-webmaster",
   "metadata": {},
   "outputs": [
    {
     "data": {
      "application/vnd.jupyter.widget-view+json": {
       "model_id": "c7300b5bc1b44abe9297ccdf9e3fa802",
       "version_major": 2,
       "version_minor": 0
      },
      "text/plain": [
       "interactive(children=(Dropdown(description='feature', options=('Model', 'MPG', 'Cylinders', 'Displacement', 'H…"
      ]
     },
     "metadata": {},
     "output_type": "display_data"
    }
   ],
   "source": [
    "@interact(feature = dfData.columns)\n",
    "def vis_histogram(feature):\n",
    "  vis = px.histogram(dfData, feature)\n",
    "  vis.show()"
   ]
  },
  {
   "cell_type": "code",
   "execution_count": 8,
   "id": "behind-sharp",
   "metadata": {},
   "outputs": [
    {
     "data": {
      "text/html": [
       "<div>\n",
       "<style scoped>\n",
       "    .dataframe tbody tr th:only-of-type {\n",
       "        vertical-align: middle;\n",
       "    }\n",
       "\n",
       "    .dataframe tbody tr th {\n",
       "        vertical-align: top;\n",
       "    }\n",
       "\n",
       "    .dataframe thead th {\n",
       "        text-align: right;\n",
       "    }\n",
       "</style>\n",
       "<table border=\"1\" class=\"dataframe\">\n",
       "  <thead>\n",
       "    <tr style=\"text-align: right;\">\n",
       "      <th></th>\n",
       "      <th>Model</th>\n",
       "      <th>MPG</th>\n",
       "      <th>Cylinders</th>\n",
       "      <th>Displacement</th>\n",
       "      <th>Horsepower</th>\n",
       "      <th>Weight</th>\n",
       "      <th>Acceleration</th>\n",
       "      <th>Year</th>\n",
       "      <th>Origin</th>\n",
       "    </tr>\n",
       "  </thead>\n",
       "  <tbody>\n",
       "    <tr>\n",
       "      <th>111</th>\n",
       "      <td>ford pinto</td>\n",
       "      <td>19.0</td>\n",
       "      <td>4</td>\n",
       "      <td>122.0</td>\n",
       "      <td>85</td>\n",
       "      <td>2310</td>\n",
       "      <td>18.5</td>\n",
       "      <td>73</td>\n",
       "      <td>US</td>\n",
       "    </tr>\n",
       "    <tr>\n",
       "      <th>128</th>\n",
       "      <td>ford pinto</td>\n",
       "      <td>26.0</td>\n",
       "      <td>4</td>\n",
       "      <td>122.0</td>\n",
       "      <td>80</td>\n",
       "      <td>2451</td>\n",
       "      <td>16.5</td>\n",
       "      <td>74</td>\n",
       "      <td>US</td>\n",
       "    </tr>\n",
       "    <tr>\n",
       "      <th>166</th>\n",
       "      <td>ford pinto</td>\n",
       "      <td>23.0</td>\n",
       "      <td>4</td>\n",
       "      <td>140.0</td>\n",
       "      <td>83</td>\n",
       "      <td>2639</td>\n",
       "      <td>17.0</td>\n",
       "      <td>75</td>\n",
       "      <td>US</td>\n",
       "    </tr>\n",
       "    <tr>\n",
       "      <th>172</th>\n",
       "      <td>ford pinto</td>\n",
       "      <td>18.0</td>\n",
       "      <td>6</td>\n",
       "      <td>171.0</td>\n",
       "      <td>97</td>\n",
       "      <td>2984</td>\n",
       "      <td>14.5</td>\n",
       "      <td>75</td>\n",
       "      <td>US</td>\n",
       "    </tr>\n",
       "    <tr>\n",
       "      <th>204</th>\n",
       "      <td>ford pinto</td>\n",
       "      <td>26.5</td>\n",
       "      <td>4</td>\n",
       "      <td>140.0</td>\n",
       "      <td>72</td>\n",
       "      <td>2565</td>\n",
       "      <td>13.6</td>\n",
       "      <td>76</td>\n",
       "      <td>US</td>\n",
       "    </tr>\n",
       "  </tbody>\n",
       "</table>\n",
       "</div>"
      ],
      "text/plain": [
       "          Model   MPG  Cylinders  Displacement  Horsepower  Weight  \\\n",
       "111  ford pinto  19.0          4         122.0          85    2310   \n",
       "128  ford pinto  26.0          4         122.0          80    2451   \n",
       "166  ford pinto  23.0          4         140.0          83    2639   \n",
       "172  ford pinto  18.0          6         171.0          97    2984   \n",
       "204  ford pinto  26.5          4         140.0          72    2565   \n",
       "\n",
       "     Acceleration  Year Origin  \n",
       "111          18.5    73     US  \n",
       "128          16.5    74     US  \n",
       "166          17.0    75     US  \n",
       "172          14.5    75     US  \n",
       "204          13.6    76     US  "
      ]
     },
     "execution_count": 8,
     "metadata": {},
     "output_type": "execute_result"
    }
   ],
   "source": [
    "# There are multiple versions of the same car, that's interesting!\n",
    "dfData[dfData[\"Model\"]==\"ford pinto\"]"
   ]
  },
  {
   "cell_type": "code",
   "execution_count": 9,
   "id": "copyrighted-perspective",
   "metadata": {},
   "outputs": [
    {
     "data": {
      "text/plain": [
       "[array(['Europe', 'Japan', 'US'], dtype=object)]"
      ]
     },
     "execution_count": 9,
     "metadata": {},
     "output_type": "execute_result"
    }
   ],
   "source": [
    "onehot = OneHotEncoder()\n",
    "onehot.fit_transform(np.array(dfData[\"Origin\"]).reshape(-1,1))\n",
    "onehot.categories_"
   ]
  },
  {
   "cell_type": "code",
   "execution_count": 10,
   "id": "remarkable-feedback",
   "metadata": {},
   "outputs": [],
   "source": [
    "feature_indices = [0,1,2,5]\n",
    "onehot_cats = ['Europe', 'Japan', 'USA']\n",
    "\n",
    "pipe = make_pipeline(RobustScaler(), TSNE(random_state=10))\n",
    "feats = pipe.fit_transform(features[:,feature_indices])\n",
    "clustering = KMeans(n_clusters = 3)\n",
    "\n",
    "clustering.fit(feats)\n",
    "feats_color = clustering.labels_"
   ]
  },
  {
   "cell_type": "code",
   "execution_count": 11,
   "id": "common-restriction",
   "metadata": {},
   "outputs": [
    {
     "data": {
      "image/png": "[encoded data removed]",
      "text/plain": [
       "<Figure size 612x792 with 1 Axes>"
      ]
     },
     "metadata": {
      "needs_background": "light"
     },
     "output_type": "display_data"
    }
   ],
   "source": [
    "\n",
    "clf = DecisionTreeClassifier(max_depth=3)\n",
    "clf.fit(features[:,feature_indices], feats_color)\n",
    "plt.figure(figsize=(8.5,11))\n",
    "plt.rcParams['font.size'] = 12\n",
    "plt.rcParams['font.family'] = 'serif'\n",
    "plt.rcParams['font.serif'] = 'Times New Roman'\n",
    "plt.rcParams['figure.dpi'] = 200\n",
    "\n",
    "plot_tree(clf, filled=True, class_names=[\"cluster1\",\"cluster2\",\"cluster3\"], feature_names= [dfData.columns[f+1] if f<7 else onehot_cats[f-7] for f in feature_indices])\n",
    "plt.savefig(\"../plots/dt.png\")\n",
    "plt.show()\n",
    "%matplotlib inline"
   ]
  },
  {
   "cell_type": "code",
   "execution_count": 12,
   "id": "democratic-twist",
   "metadata": {},
   "outputs": [
    {
     "name": "stdout",
     "output_type": "stream",
     "text": [
      "The above decision tree uses the four features given as input to the clustering algorithm\n",
      "Classification score of Decision Tree Classifier : 98.73 \n"
     ]
    }
   ],
   "source": [
    "classificationScore = clf.score(features[:,feature_indices], feats_color)*100\n",
    "print(\"The above decision tree uses the four features given as input to the clustering algorithm\")\n",
    "print(\"Classification score of Decision Tree Classifier : %.2f \" % classificationScore)"
   ]
  },
  {
   "cell_type": "code",
   "execution_count": 13,
   "id": "gross-evans",
   "metadata": {},
   "outputs": [
    {
     "name": "stdout",
     "output_type": "stream",
     "text": [
      "Columns used in this analysis :\n"
     ]
    },
    {
     "data": {
      "text/plain": [
       "Index(['MPG', 'Cylinders', 'Displacement', 'Acceleration'], dtype='object')"
      ]
     },
     "execution_count": 13,
     "metadata": {},
     "output_type": "execute_result"
    }
   ],
   "source": [
    "print(\"Columns used in this analysis :\")\n",
    "dfData.columns[[f+1 for f in feature_indices]]"
   ]
  },
  {
   "cell_type": "code",
   "execution_count": 14,
   "id": "abstract-seller",
   "metadata": {},
   "outputs": [],
   "source": [
    "dfData.Year = [1900 + d for d in dfData.Year]"
   ]
  },
  {
   "cell_type": "code",
   "execution_count": 15,
   "id": "driven-photographer",
   "metadata": {},
   "outputs": [],
   "source": [
    "dfData[\"Model_Year\"] = dfData[\"Model\"].values + \", \" + np.array([str(d) for d in dfData[\"Year\"].values])"
   ]
  },
  {
   "cell_type": "code",
   "execution_count": 16,
   "id": "cosmetic-brunswick",
   "metadata": {},
   "outputs": [],
   "source": [
    "# Create and save the csv file\n",
    "dfData['cluster'] = feats_color\n",
    "dfData['dim1'] = feats[:,0]\n",
    "dfData['dim2'] = feats[:,1]"
   ]
  },
  {
   "cell_type": "code",
   "execution_count": 17,
   "id": "infinite-squad",
   "metadata": {},
   "outputs": [],
   "source": [
    "dfData.to_csv(\"../Data/tsne_kmeans_0123_cars.csv\")"
   ]
  },
  {
   "cell_type": "code",
   "execution_count": 20,
   "id": "bottom-cookie",
   "metadata": {},
   "outputs": [
    {
     "data": {
      "text/plain": [
       "Counter({1: 99, 0: 205, 2: 90})"
      ]
     },
     "execution_count": 20,
     "metadata": {},
     "output_type": "execute_result"
    }
   ],
   "source": [
    "from collections import Counter\n",
    "Counter(pd.read_csv(\"../Data/tsne_kmeans_0123_cars.csv\")[\"cluster\"].values)"
   ]
  },
  {
   "cell_type": "code",
   "execution_count": null,
   "id": "appreciated-leather",
   "metadata": {},
   "outputs": [],
   "source": []
  },
  {
   "cell_type": "code",
   "execution_count": null,
   "id": "structural-maine",
   "metadata": {},
   "outputs": [],
   "source": []
  }
 ],
 "metadata": {
  "kernelspec": {
   "display_name": "pyVA",
   "language": "python",
   "name": "pyva"
  },
  "language_info": {
   "codemirror_mode": {
    "name": "ipython",
    "version": 3
   },
   "file_extension": ".py",
   "mimetype": "text/x-python",
   "name": "python",
   "nbconvert_exporter": "python",
   "pygments_lexer": "ipython3",
   "version": "3.9.2"
  }
 },
 "nbformat": 4,
 "nbformat_minor": 5
}
